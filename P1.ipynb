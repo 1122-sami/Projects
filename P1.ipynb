{
  "nbformat": 4,
  "nbformat_minor": 0,
  "metadata": {
    "colab": {
      "provenance": []
    },
    "kernelspec": {
      "name": "python3",
      "display_name": "Python 3"
    },
    "language_info": {
      "name": "python"
    }
  },
  "cells": [
    {
      "cell_type": "code",
      "execution_count": 1,
      "metadata": {
        "colab": {
          "base_uri": "https://localhost:8080/"
        },
        "id": "hKX-HK2zXCfi",
        "outputId": "c106fd41-ac4f-4574-e034-7abaf2c2b1f0"
      },
      "outputs": [
        {
          "output_type": "stream",
          "name": "stdout",
          "text": [
            "Requirement already satisfied: nltk in /usr/local/lib/python3.10/dist-packages (3.8.1)\n",
            "Requirement already satisfied: click in /usr/local/lib/python3.10/dist-packages (from nltk) (8.1.7)\n",
            "Requirement already satisfied: joblib in /usr/local/lib/python3.10/dist-packages (from nltk) (1.4.2)\n",
            "Requirement already satisfied: regex>=2021.8.3 in /usr/local/lib/python3.10/dist-packages (from nltk) (2024.5.15)\n",
            "Requirement already satisfied: tqdm in /usr/local/lib/python3.10/dist-packages (from nltk) (4.66.4)\n"
          ]
        }
      ],
      "source": [
        "pip install nltk\n"
      ]
    },
    {
      "cell_type": "code",
      "source": [
        "import nltk\n",
        "nltk.download('vader_lexicon')\n"
      ],
      "metadata": {
        "colab": {
          "base_uri": "https://localhost:8080/"
        },
        "id": "YGHKSNdiXFps",
        "outputId": "0b106470-9c73-45df-f789-788fbea26857"
      },
      "execution_count": 2,
      "outputs": [
        {
          "output_type": "stream",
          "name": "stderr",
          "text": [
            "[nltk_data] Downloading package vader_lexicon to /root/nltk_data...\n"
          ]
        },
        {
          "output_type": "execute_result",
          "data": {
            "text/plain": [
              "True"
            ]
          },
          "metadata": {},
          "execution_count": 2
        }
      ]
    },
    {
      "cell_type": "code",
      "source": [
        "import nltk\n",
        "from nltk.sentiment.vader import SentimentIntensityAnalyzer\n",
        "\n",
        "# Download the VADER lexicon\n",
        "nltk.download('vader_lexicon')\n",
        "\n",
        "# Initialize the VADER sentiment analyzer\n",
        "sia = SentimentIntensityAnalyzer()\n",
        "\n",
        "# List of social media posts\n",
        "posts = [\n",
        "    \"I love the new design of the app! It's so user-friendly.\",\n",
        "    \"I'm really disappointed with the latest update.\",\n",
        "    \"The customer service was excellent and very helpful!\",\n",
        "    \"This product is terrible, I want my money back.\",\n",
        "    \"It's okay, not too bad but could be better.\"\n",
        "]\n",
        "\n",
        "# Analyze the sentiment of each post\n",
        "for post in posts:\n",
        "    sentiment = sia.polarity_scores(post)\n",
        "    print(f\"Post: {post}\")\n",
        "    print(f\"Sentiment: {sentiment}\")\n",
        "    print()\n"
      ],
      "metadata": {
        "colab": {
          "base_uri": "https://localhost:8080/"
        },
        "id": "RkPBZAGoXPpu",
        "outputId": "f988c201-3c3a-43eb-e99a-32966917f848"
      },
      "execution_count": 3,
      "outputs": [
        {
          "output_type": "stream",
          "name": "stdout",
          "text": [
            "Post: I love the new design of the app! It's so user-friendly.\n",
            "Sentiment: {'neg': 0.0, 'neu': 0.667, 'pos': 0.333, 'compound': 0.6696}\n",
            "\n",
            "Post: I'm really disappointed with the latest update.\n",
            "Sentiment: {'neg': 0.361, 'neu': 0.639, 'pos': 0.0, 'compound': -0.5256}\n",
            "\n",
            "Post: The customer service was excellent and very helpful!\n",
            "Sentiment: {'neg': 0.0, 'neu': 0.459, 'pos': 0.541, 'compound': 0.7955}\n",
            "\n",
            "Post: This product is terrible, I want my money back.\n",
            "Sentiment: {'neg': 0.298, 'neu': 0.577, 'pos': 0.125, 'compound': -0.4215}\n",
            "\n",
            "Post: It's okay, not too bad but could be better.\n",
            "Sentiment: {'neg': 0.0, 'neu': 0.454, 'pos': 0.546, 'compound': 0.7371}\n",
            "\n"
          ]
        },
        {
          "output_type": "stream",
          "name": "stderr",
          "text": [
            "[nltk_data] Downloading package vader_lexicon to /root/nltk_data...\n",
            "[nltk_data]   Package vader_lexicon is already up-to-date!\n"
          ]
        }
      ]
    }
  ]
}