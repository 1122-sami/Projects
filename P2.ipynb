{
  "nbformat": 4,
  "nbformat_minor": 0,
  "metadata": {
    "colab": {
      "provenance": []
    },
    "kernelspec": {
      "name": "python3",
      "display_name": "Python 3"
    },
    "language_info": {
      "name": "python"
    }
  },
  "cells": [
    {
      "cell_type": "code",
      "execution_count": 1,
      "metadata": {
        "colab": {
          "base_uri": "https://localhost:8080/"
        },
        "id": "86giCQ01XvJ3",
        "outputId": "6c9e940d-5dc8-461c-80c1-a17285cbae61"
      },
      "outputs": [
        {
          "output_type": "stream",
          "name": "stdout",
          "text": [
            "Spam detected: Congratulations! You've won a free prize. Click here to claim.\n",
            "Spam detected: Reminder: Your loan payment is due tomorrow.\n",
            "Not spam: Hi there, just wanted to check in and see how you're doing.\n",
            "Spam detected: Exclusive offer: Buy now and get 50% off your next purchase!\n"
          ]
        }
      ],
      "source": [
        "class SpamFilter:\n",
        "    def __init__(self, spam_keywords):\n",
        "        self.spam_keywords = spam_keywords\n",
        "\n",
        "    def is_spam(self, message):\n",
        "        \"\"\"\n",
        "        Check if a message is spam based on the presence of spam keywords.\n",
        "\n",
        "        Args:\n",
        "        message (str): The message to be checked.\n",
        "\n",
        "        Returns:\n",
        "        bool: True if the message is spam, False otherwise.\n",
        "        \"\"\"\n",
        "        message_lower = message.lower()\n",
        "        for keyword in self.spam_keywords:\n",
        "            if keyword.lower() in message_lower:\n",
        "                return True\n",
        "        return False\n",
        "\n",
        "# List of spam keywords\n",
        "spam_keywords = [\n",
        "    'win', 'prize', 'free', 'money', 'urgent', 'credit', 'loan',\n",
        "    'winner', 'cash', 'guarantee', 'click', 'offer', 'buy now'\n",
        "]\n",
        "\n",
        "# Initialize the spam filter with the spam keywords\n",
        "spam_filter = SpamFilter(spam_keywords)\n",
        "\n",
        "# Example messages\n",
        "messages = [\n",
        "    \"Congratulations! You've won a free prize. Click here to claim.\",\n",
        "    \"Reminder: Your loan payment is due tomorrow.\",\n",
        "    \"Hi there, just wanted to check in and see how you're doing.\",\n",
        "    \"Exclusive offer: Buy now and get 50% off your next purchase!\"\n",
        "]\n",
        "\n",
        "# Check each message for spam\n",
        "for message in messages:\n",
        "    if spam_filter.is_spam(message):\n",
        "        print(f\"Spam detected: {message}\")\n",
        "    else:\n",
        "        print(f\"Not spam: {message}\")\n"
      ]
    }
  ]
}