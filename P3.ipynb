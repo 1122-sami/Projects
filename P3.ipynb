{
  "nbformat": 4,
  "nbformat_minor": 0,
  "metadata": {
    "colab": {
      "provenance": []
    },
    "kernelspec": {
      "name": "python3",
      "display_name": "Python 3"
    },
    "language_info": {
      "name": "python"
    }
  },
  "cells": [
    {
      "cell_type": "code",
      "source": [
        "!pip install nltk\n",
        "import nltk\n",
        "nltk.download('punkt')\n",
        "\n",
        "from sklearn.feature_extraction.text import TfidfVectorizer\n",
        "from nltk.tokenize import word_tokenize\n",
        "\n",
        "# Sample article\n",
        "article = \"\"\"\n",
        "    Natural language processing (NLP) is a subfield of linguistics, computer science, information engineering,\n",
        "    and artificial intelligence concerned with the interactions between computers and human (natural) languages,\n",
        "    in particular how to program computers to process and analyze large amounts of natural language data.\n",
        "    \"\"\"\n",
        "\n",
        "# Tokenize the article\n",
        "tokens = word_tokenize(article)\n",
        "\n",
        "# Convert tokens to lowercase\n",
        "tokens = [token.lower() for token in tokens]\n",
        "\n",
        "# Initialize TF-IDF vectorizer\n",
        "tfidf_vectorizer = TfidfVectorizer()\n",
        "\n",
        "# Fit and transform the article\n",
        "tfidf_matrix = tfidf_vectorizer.fit_transform([article])\n",
        "\n",
        "# Get the feature names (i.e., the terms)\n",
        "feature_names = tfidf_vectorizer.get_feature_names_out()\n",
        "\n",
        "# Get the TF-IDF scores for each term\n",
        "tfidf_scores = tfidf_matrix.toarray()[0]\n",
        "\n",
        "# Pair terms with their TF-IDF scores\n",
        "term_tfidf_scores = list(zip(feature_names, tfidf_scores))\n",
        "\n",
        "# Sort terms by their TF-IDF scores in descending order\n",
        "sorted_terms = sorted(term_tfidf_scores, key=lambda x: x[1], reverse=True)\n",
        "\n",
        "# Extract the top N keywords\n",
        "top_keywords = [term for term, score in sorted_terms[:10]]  # Adjust the number as needed\n",
        "\n",
        "print(\"Top Keywords:\")\n",
        "for keyword in top_keywords:\n",
        "    print(keyword)"
      ],
      "metadata": {
        "colab": {
          "base_uri": "https://localhost:8080/"
        },
        "id": "WmSXD9OkZnri",
        "outputId": "c23804fe-38ce-4579-f0a7-cc7e3c112ba0"
      },
      "execution_count": 8,
      "outputs": [
        {
          "output_type": "stream",
          "name": "stdout",
          "text": [
            "Requirement already satisfied: nltk in /usr/local/lib/python3.10/dist-packages (3.8.1)\n",
            "Requirement already satisfied: click in /usr/local/lib/python3.10/dist-packages (from nltk) (8.1.7)\n",
            "Requirement already satisfied: joblib in /usr/local/lib/python3.10/dist-packages (from nltk) (1.4.2)\n",
            "Requirement already satisfied: regex>=2021.8.3 in /usr/local/lib/python3.10/dist-packages (from nltk) (2024.5.15)\n",
            "Requirement already satisfied: tqdm in /usr/local/lib/python3.10/dist-packages (from nltk) (4.66.4)\n"
          ]
        },
        {
          "output_type": "stream",
          "name": "stderr",
          "text": [
            "[nltk_data] Downloading package punkt to /root/nltk_data...\n",
            "[nltk_data]   Unzipping tokenizers/punkt.zip.\n"
          ]
        },
        {
          "output_type": "stream",
          "name": "stdout",
          "text": [
            "Top Keywords:\n",
            "and\n",
            "natural\n",
            "computers\n",
            "language\n",
            "of\n",
            "to\n",
            "amounts\n",
            "analyze\n",
            "artificial\n",
            "between\n"
          ]
        }
      ]
    }
  ]
}