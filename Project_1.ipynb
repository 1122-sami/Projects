{
  "nbformat": 4,
  "nbformat_minor": 0,
  "metadata": {
    "colab": {
      "provenance": [],
      "gpuType": "T4"
    },
    "kernelspec": {
      "name": "python3",
      "display_name": "Python 3"
    },
    "language_info": {
      "name": "python"
    },
    "accelerator": "GPU"
  },
  "cells": [
    {
      "cell_type": "code",
      "execution_count": 1,
      "metadata": {
        "colab": {
          "base_uri": "https://localhost:8080/"
        },
        "id": "O3Wffr8jVkJi",
        "outputId": "0d3343e6-e71c-46f1-8d32-ffaf9b1dd59d"
      },
      "outputs": [
        {
          "output_type": "stream",
          "name": "stdout",
          "text": [
            "Requirement already satisfied: tweepy in /usr/local/lib/python3.10/dist-packages (4.14.0)\n",
            "Requirement already satisfied: pandas in /usr/local/lib/python3.10/dist-packages (2.0.3)\n",
            "Requirement already satisfied: nltk in /usr/local/lib/python3.10/dist-packages (3.8.1)\n",
            "Requirement already satisfied: scikit-learn in /usr/local/lib/python3.10/dist-packages (1.2.2)\n",
            "Requirement already satisfied: oauthlib<4,>=3.2.0 in /usr/local/lib/python3.10/dist-packages (from tweepy) (3.2.2)\n",
            "Requirement already satisfied: requests<3,>=2.27.0 in /usr/local/lib/python3.10/dist-packages (from tweepy) (2.31.0)\n",
            "Requirement already satisfied: requests-oauthlib<2,>=1.2.0 in /usr/local/lib/python3.10/dist-packages (from tweepy) (1.3.1)\n",
            "Requirement already satisfied: python-dateutil>=2.8.2 in /usr/local/lib/python3.10/dist-packages (from pandas) (2.8.2)\n",
            "Requirement already satisfied: pytz>=2020.1 in /usr/local/lib/python3.10/dist-packages (from pandas) (2023.4)\n",
            "Requirement already satisfied: tzdata>=2022.1 in /usr/local/lib/python3.10/dist-packages (from pandas) (2024.1)\n",
            "Requirement already satisfied: numpy>=1.21.0 in /usr/local/lib/python3.10/dist-packages (from pandas) (1.25.2)\n",
            "Requirement already satisfied: click in /usr/local/lib/python3.10/dist-packages (from nltk) (8.1.7)\n",
            "Requirement already satisfied: joblib in /usr/local/lib/python3.10/dist-packages (from nltk) (1.4.2)\n",
            "Requirement already satisfied: regex>=2021.8.3 in /usr/local/lib/python3.10/dist-packages (from nltk) (2024.5.15)\n",
            "Requirement already satisfied: tqdm in /usr/local/lib/python3.10/dist-packages (from nltk) (4.66.4)\n",
            "Requirement already satisfied: scipy>=1.3.2 in /usr/local/lib/python3.10/dist-packages (from scikit-learn) (1.11.4)\n",
            "Requirement already satisfied: threadpoolctl>=2.0.0 in /usr/local/lib/python3.10/dist-packages (from scikit-learn) (3.5.0)\n",
            "Requirement already satisfied: six>=1.5 in /usr/local/lib/python3.10/dist-packages (from python-dateutil>=2.8.2->pandas) (1.16.0)\n",
            "Requirement already satisfied: charset-normalizer<4,>=2 in /usr/local/lib/python3.10/dist-packages (from requests<3,>=2.27.0->tweepy) (3.3.2)\n",
            "Requirement already satisfied: idna<4,>=2.5 in /usr/local/lib/python3.10/dist-packages (from requests<3,>=2.27.0->tweepy) (3.7)\n",
            "Requirement already satisfied: urllib3<3,>=1.21.1 in /usr/local/lib/python3.10/dist-packages (from requests<3,>=2.27.0->tweepy) (2.0.7)\n",
            "Requirement already satisfied: certifi>=2017.4.17 in /usr/local/lib/python3.10/dist-packages (from requests<3,>=2.27.0->tweepy) (2024.6.2)\n"
          ]
        }
      ],
      "source": [
        "pip install tweepy pandas nltk scikit-learn"
      ]
    },
    {
      "cell_type": "code",
      "source": [
        "import tweepy\n",
        "import pandas as pd\n",
        "from nltk.corpus import stopwords\n",
        "from nltk.tokenize import word_tokenize\n",
        "from nltk.stem import WordNetLemmatizer\n",
        "from sklearn.feature_extraction.text import TfidfVectorizer\n",
        "from sklearn.model_selection import train_test_split\n",
        "from sklearn.naive_bayes import MultinomialNB\n",
        "from sklearn.metrics import accuracy_score, classification_report\n",
        "import nltk"
      ],
      "metadata": {
        "id": "FWC95f2PV03T"
      },
      "execution_count": 2,
      "outputs": []
    },
    {
      "cell_type": "code",
      "source": [
        "nltk.download('punkt')\n",
        "nltk.download('stopwords')\n",
        "nltk.download('wordnet')"
      ],
      "metadata": {
        "colab": {
          "base_uri": "https://localhost:8080/"
        },
        "id": "uspDSbw9V4pA",
        "outputId": "165b0b48-5e7a-40d3-b2a6-ae73000c6db7"
      },
      "execution_count": 3,
      "outputs": [
        {
          "output_type": "stream",
          "name": "stderr",
          "text": [
            "[nltk_data] Downloading package punkt to /root/nltk_data...\n",
            "[nltk_data]   Unzipping tokenizers/punkt.zip.\n",
            "[nltk_data] Downloading package stopwords to /root/nltk_data...\n",
            "[nltk_data]   Unzipping corpora/stopwords.zip.\n",
            "[nltk_data] Downloading package wordnet to /root/nltk_data...\n"
          ]
        },
        {
          "output_type": "execute_result",
          "data": {
            "text/plain": [
              "True"
            ]
          },
          "metadata": {},
          "execution_count": 3
        }
      ]
    },
    {
      "cell_type": "code",
      "source": [
        "# Replace with your own credentials\n",
        "consumer_key = 'your_consumer_key'\n",
        "consumer_secret = 'your_consumer_secret'\n",
        "access_token = 'your_access_token'\n",
        "access_token_secret = 'your_access_token_secret'\n",
        "\n",
        "auth = tweepy.OAuth1UserHandler(consumer_key, consumer_secret, access_token, access_token_secret)\n",
        "api = tweepy.API(auth)"
      ],
      "metadata": {
        "id": "8e2EsbXTV7Z6"
      },
      "execution_count": 4,
      "outputs": []
    },
    {
      "cell_type": "code",
      "source": [
        "def preprocess_text(text):\n",
        "    # Tokenize the text\n",
        "    tokens = word_tokenize(text.lower())\n",
        "\n",
        "    # Remove stopwords and punctuation\n",
        "    stop_words = set(stopwords.words('english'))\n",
        "    words = [word for word in tokens if word.isalpha() and word not in stop_words]\n",
        "\n",
        "    # Lemmatize the words\n",
        "    lemmatizer = WordNetLemmatizer()\n",
        "    lemmas = [lemmatizer.lemmatize(word) for word in words]\n",
        "\n",
        "    return ' '.join(lemmas)\n",
        "\n",
        "# Create or load your DataFrame here\n",
        "# Example:\n",
        "tweets_df = pd.DataFrame({'text': ['This is a sample tweet.', 'Another tweet for preprocessing.']})\n",
        "\n",
        "tweets_df['cleaned_text'] = tweets_df['text'].apply(preprocess_text)\n",
        "print(tweets_df)"
      ],
      "metadata": {
        "colab": {
          "base_uri": "https://localhost:8080/"
        },
        "id": "5OiluGDzV-mr",
        "outputId": "63245340-b253-490a-d78c-9eda009ab0d4"
      },
      "execution_count": 6,
      "outputs": [
        {
          "output_type": "stream",
          "name": "stdout",
          "text": [
            "                               text                 cleaned_text\n",
            "0           This is a sample tweet.                 sample tweet\n",
            "1  Another tweet for preprocessing.  another tweet preprocessing\n"
          ]
        }
      ]
    },
    {
      "cell_type": "code",
      "source": [
        "vectorizer = TfidfVectorizer(max_features=1000)\n",
        "X = vectorizer.fit_transform(tweets_df['cleaned_text'])"
      ],
      "metadata": {
        "id": "gcdOeTKBWG1d"
      },
      "execution_count": 7,
      "outputs": []
    },
    {
      "cell_type": "code",
      "source": [
        "# Assuming we have a labeled dataset in a CSV file\n",
        "labeled_data = pd.read_csv('sentimentdataset.csv')  # This CSV should have 'text' and 'sentiment' columns\n",
        "labeled_data['cleaned_text'] = labeled_data['Sentiment'].apply(preprocess_text)\n",
        "\n",
        "X_labeled = vectorizer.fit_transform(labeled_data['cleaned_text'])\n",
        "y = labeled_data['Sentiment']\n",
        "\n",
        "X_train, X_test, y_train, y_test = train_test_split(X_labeled, y, test_size=0.2, random_state=42)\n",
        "\n",
        "model = MultinomialNB()\n",
        "model.fit(X_train, y_train)\n"
      ],
      "metadata": {
        "colab": {
          "base_uri": "https://localhost:8080/",
          "height": 74
        },
        "id": "iQ4VqKhXW2E3",
        "outputId": "dde369f3-66e5-413b-918d-da5afb7cb021"
      },
      "execution_count": 14,
      "outputs": [
        {
          "output_type": "execute_result",
          "data": {
            "text/plain": [
              "MultinomialNB()"
            ],
            "text/html": [
              "<style>#sk-container-id-1 {color: black;background-color: white;}#sk-container-id-1 pre{padding: 0;}#sk-container-id-1 div.sk-toggleable {background-color: white;}#sk-container-id-1 label.sk-toggleable__label {cursor: pointer;display: block;width: 100%;margin-bottom: 0;padding: 0.3em;box-sizing: border-box;text-align: center;}#sk-container-id-1 label.sk-toggleable__label-arrow:before {content: \"▸\";float: left;margin-right: 0.25em;color: #696969;}#sk-container-id-1 label.sk-toggleable__label-arrow:hover:before {color: black;}#sk-container-id-1 div.sk-estimator:hover label.sk-toggleable__label-arrow:before {color: black;}#sk-container-id-1 div.sk-toggleable__content {max-height: 0;max-width: 0;overflow: hidden;text-align: left;background-color: #f0f8ff;}#sk-container-id-1 div.sk-toggleable__content pre {margin: 0.2em;color: black;border-radius: 0.25em;background-color: #f0f8ff;}#sk-container-id-1 input.sk-toggleable__control:checked~div.sk-toggleable__content {max-height: 200px;max-width: 100%;overflow: auto;}#sk-container-id-1 input.sk-toggleable__control:checked~label.sk-toggleable__label-arrow:before {content: \"▾\";}#sk-container-id-1 div.sk-estimator input.sk-toggleable__control:checked~label.sk-toggleable__label {background-color: #d4ebff;}#sk-container-id-1 div.sk-label input.sk-toggleable__control:checked~label.sk-toggleable__label {background-color: #d4ebff;}#sk-container-id-1 input.sk-hidden--visually {border: 0;clip: rect(1px 1px 1px 1px);clip: rect(1px, 1px, 1px, 1px);height: 1px;margin: -1px;overflow: hidden;padding: 0;position: absolute;width: 1px;}#sk-container-id-1 div.sk-estimator {font-family: monospace;background-color: #f0f8ff;border: 1px dotted black;border-radius: 0.25em;box-sizing: border-box;margin-bottom: 0.5em;}#sk-container-id-1 div.sk-estimator:hover {background-color: #d4ebff;}#sk-container-id-1 div.sk-parallel-item::after {content: \"\";width: 100%;border-bottom: 1px solid gray;flex-grow: 1;}#sk-container-id-1 div.sk-label:hover label.sk-toggleable__label {background-color: #d4ebff;}#sk-container-id-1 div.sk-serial::before {content: \"\";position: absolute;border-left: 1px solid gray;box-sizing: border-box;top: 0;bottom: 0;left: 50%;z-index: 0;}#sk-container-id-1 div.sk-serial {display: flex;flex-direction: column;align-items: center;background-color: white;padding-right: 0.2em;padding-left: 0.2em;position: relative;}#sk-container-id-1 div.sk-item {position: relative;z-index: 1;}#sk-container-id-1 div.sk-parallel {display: flex;align-items: stretch;justify-content: center;background-color: white;position: relative;}#sk-container-id-1 div.sk-item::before, #sk-container-id-1 div.sk-parallel-item::before {content: \"\";position: absolute;border-left: 1px solid gray;box-sizing: border-box;top: 0;bottom: 0;left: 50%;z-index: -1;}#sk-container-id-1 div.sk-parallel-item {display: flex;flex-direction: column;z-index: 1;position: relative;background-color: white;}#sk-container-id-1 div.sk-parallel-item:first-child::after {align-self: flex-end;width: 50%;}#sk-container-id-1 div.sk-parallel-item:last-child::after {align-self: flex-start;width: 50%;}#sk-container-id-1 div.sk-parallel-item:only-child::after {width: 0;}#sk-container-id-1 div.sk-dashed-wrapped {border: 1px dashed gray;margin: 0 0.4em 0.5em 0.4em;box-sizing: border-box;padding-bottom: 0.4em;background-color: white;}#sk-container-id-1 div.sk-label label {font-family: monospace;font-weight: bold;display: inline-block;line-height: 1.2em;}#sk-container-id-1 div.sk-label-container {text-align: center;}#sk-container-id-1 div.sk-container {/* jupyter's `normalize.less` sets `[hidden] { display: none; }` but bootstrap.min.css set `[hidden] { display: none !important; }` so we also need the `!important` here to be able to override the default hidden behavior on the sphinx rendered scikit-learn.org. See: https://github.com/scikit-learn/scikit-learn/issues/21755 */display: inline-block !important;position: relative;}#sk-container-id-1 div.sk-text-repr-fallback {display: none;}</style><div id=\"sk-container-id-1\" class=\"sk-top-container\"><div class=\"sk-text-repr-fallback\"><pre>MultinomialNB()</pre><b>In a Jupyter environment, please rerun this cell to show the HTML representation or trust the notebook. <br />On GitHub, the HTML representation is unable to render, please try loading this page with nbviewer.org.</b></div><div class=\"sk-container\" hidden><div class=\"sk-item\"><div class=\"sk-estimator sk-toggleable\"><input class=\"sk-toggleable__control sk-hidden--visually\" id=\"sk-estimator-id-1\" type=\"checkbox\" checked><label for=\"sk-estimator-id-1\" class=\"sk-toggleable__label sk-toggleable__label-arrow\">MultinomialNB</label><div class=\"sk-toggleable__content\"><pre>MultinomialNB()</pre></div></div></div></div></div>"
            ]
          },
          "metadata": {},
          "execution_count": 14
        }
      ]
    },
    {
      "cell_type": "code",
      "source": [
        "y_pred = model.predict(X_test)\n",
        "print(f'Accuracy: {accuracy_score(y_test, y_pred)}')\n",
        "print(classification_report(y_test, y_pred))\n"
      ],
      "metadata": {
        "colab": {
          "base_uri": "https://localhost:8080/"
        },
        "id": "rgVAYHwVXKi5",
        "outputId": "06aa2f11-d720-4f46-ff2e-17d421f553ff"
      },
      "execution_count": 15,
      "outputs": [
        {
          "output_type": "stream",
          "name": "stdout",
          "text": [
            "Accuracy: 0.23809523809523808\n",
            "                        precision    recall  f1-score   support\n",
            "\n",
            "         Acceptance          0.00      0.00      0.00         2\n",
            "           Admiration        0.00      0.00      0.00         1\n",
            "        Admiration           0.00      0.00      0.00         1\n",
            "         Affection           0.00      0.00      0.00         1\n",
            "      Ambivalence            0.00      0.00      0.00         1\n",
            "         Anger               0.00      0.00      0.00         1\n",
            "        Anticipation         0.00      0.00      0.00         1\n",
            "        Arousal              0.00      0.00      0.00         3\n",
            "                  Awe        0.00      0.00      0.00         1\n",
            "         Awe                 0.00      0.00      0.00         1\n",
            "                  Bad        0.00      0.00      0.00         1\n",
            "             Betrayal        0.00      0.00      0.00         2\n",
            "        Betrayal             0.00      0.00      0.00         1\n",
            "         Bitter              0.00      0.00      0.00         1\n",
            "           Bitterness        0.00      0.00      0.00         1\n",
            "          Bittersweet        0.00      0.00      0.00         1\n",
            "              Boredom        0.00      0.00      0.00         1\n",
            "         Calmness            0.00      0.00      0.00         1\n",
            "          Captivation        0.00      0.00      0.00         1\n",
            "     Celestial Wonder        0.00      0.00      0.00         1\n",
            "             Colorful        0.00      0.00      0.00         1\n",
            "      Confusion              0.00      0.00      0.00         3\n",
            "           Connection        0.00      0.00      0.00         1\n",
            "        Contemplation        0.00      0.00      0.00         1\n",
            "          Contentment        0.75      1.00      0.86         3\n",
            "        Contentment          0.00      0.00      0.00         1\n",
            "         Coziness            0.00      0.00      0.00         1\n",
            "         Creativity          0.00      0.00      0.00         1\n",
            "            Curiosity        0.40      1.00      0.57         2\n",
            "          Curiosity          0.00      0.00      0.00         1\n",
            "      Curiosity              0.00      0.00      0.00         2\n",
            "           Desolation        0.00      0.00      0.00         1\n",
            "           Devastated        0.00      0.00      0.00         2\n",
            "              Disgust        0.00      0.00      0.00         1\n",
            "         Disgust             0.00      0.00      0.00         2\n",
            "        Elation              0.00      0.00      0.00         3\n",
            "             Elegance        0.00      0.00      0.00         1\n",
            "          Embarrassed        1.00      1.00      1.00         1\n",
            "       EmotionalStorm        0.00      0.00      0.00         1\n",
            "        Empowerment          0.00      0.00      0.00         1\n",
            "         Enjoyment           0.00      0.00      0.00         2\n",
            "           Enthusiasm        0.00      0.00      0.00         1\n",
            "              Envious        0.00      0.00      0.00         2\n",
            "  Envisioning History        0.00      0.00      0.00         1\n",
            "         Euphoria            0.00      0.00      0.00         1\n",
            "           Excitement        0.43      1.00      0.60         3\n",
            "         Excitement          0.00      0.00      0.00         3\n",
            "        Excitement           0.00      0.00      0.00         1\n",
            "         Fear                0.00      0.00      0.00         1\n",
            "              Fearful        0.00      0.00      0.00         1\n",
            "           Frustrated        0.00      0.00      0.00         1\n",
            "          Frustration        0.00      0.00      0.00         3\n",
            "         Fulfillment         0.00      0.00      0.00         2\n",
            "             Grateful        0.00      0.00      0.00         1\n",
            "      Grief                  0.00      0.00      0.00         1\n",
            "                Happy        1.00      1.00      1.00         6\n",
            "                 Hate        0.00      0.00      0.00         2\n",
            "           Heartbreak        0.00      0.00      0.00         2\n",
            "              Hopeful        1.00      1.00      1.00         1\n",
            "        InnerJourney         0.00      0.00      0.00         1\n",
            "        Inspiration          0.00      0.00      0.00         1\n",
            "             Inspired        0.00      0.00      0.00         1\n",
            "            Isolation        0.00      0.00      0.00         1\n",
            "          Jealousy           0.00      0.00      0.00         1\n",
            "                  Joy        0.89      1.00      0.94         8\n",
            "         Joy                 0.00      0.00      0.00         1\n",
            "        JoyfulReunion        0.00      0.00      0.00         1\n",
            "         Kind                0.00      0.00      0.00         1\n",
            "           Loneliness        0.50      1.00      0.67         1\n",
            "      Loneliness             0.00      0.00      0.00         1\n",
            "             LostLove        0.00      0.00      0.00         1\n",
            "      Melancholy             0.00      0.00      0.00         2\n",
            "       Miscalculation        0.00      0.00      0.00         1\n",
            "              Neutral        1.00      1.00      1.00         1\n",
            "        Nostalgia            0.00      0.00      0.00         1\n",
            "      Nostalgia              0.00      0.00      0.00         1\n",
            "      Numbness               0.00      0.00      0.00         1\n",
            "          Overwhelmed        0.00      0.00      0.00         1\n",
            "              Playful        0.00      0.00      0.00         2\n",
            "            Positive         0.08      1.00      0.15         9\n",
            "                Proud        0.00      0.00      0.00         1\n",
            "        Reflection           0.00      0.00      0.00         1\n",
            "       Regret                0.00      0.00      0.00         1\n",
            "           Resilience        0.00      0.00      0.00         1\n",
            "            Reverence        0.00      0.00      0.00         1\n",
            "         Sadness             0.00      0.00      0.00         2\n",
            "        Satisfaction         0.00      0.00      0.00         1\n",
            "             Serenity        0.00      0.00      0.00         2\n",
            "      Serenity               0.00      0.00      0.00         2\n",
            "             Solitude        0.00      0.00      0.00         1\n",
            "          Sorrow             0.00      0.00      0.00         1\n",
            "         Spark               0.00      0.00      0.00         1\n",
            "         Surprise            0.00      0.00      0.00         1\n",
            "        Thrill               0.00      0.00      0.00         1\n",
            "             Vibrancy        0.00      0.00      0.00         1\n",
            " Whispers of the Past        0.00      0.00      0.00         1\n",
            "                 Zest        0.00      0.00      0.00         1\n",
            "\n",
            "              accuracy                           0.24       147\n",
            "             macro avg       0.07      0.10      0.08       147\n",
            "          weighted avg       0.15      0.24      0.16       147\n",
            "\n"
          ]
        },
        {
          "output_type": "stream",
          "name": "stderr",
          "text": [
            "/usr/local/lib/python3.10/dist-packages/sklearn/metrics/_classification.py:1344: UndefinedMetricWarning: Precision and F-score are ill-defined and being set to 0.0 in labels with no predicted samples. Use `zero_division` parameter to control this behavior.\n",
            "  _warn_prf(average, modifier, msg_start, len(result))\n",
            "/usr/local/lib/python3.10/dist-packages/sklearn/metrics/_classification.py:1344: UndefinedMetricWarning: Precision and F-score are ill-defined and being set to 0.0 in labels with no predicted samples. Use `zero_division` parameter to control this behavior.\n",
            "  _warn_prf(average, modifier, msg_start, len(result))\n",
            "/usr/local/lib/python3.10/dist-packages/sklearn/metrics/_classification.py:1344: UndefinedMetricWarning: Precision and F-score are ill-defined and being set to 0.0 in labels with no predicted samples. Use `zero_division` parameter to control this behavior.\n",
            "  _warn_prf(average, modifier, msg_start, len(result))\n"
          ]
        }
      ]
    },
    {
      "cell_type": "code",
      "source": [
        "def classify_tweets(tweets_df):\n",
        "    tweets_df['cleaned_text'] = tweets_df['text'].apply(preprocess_text)\n",
        "    X_new = vectorizer.transform(tweets_df['cleaned_text'])\n",
        "    tweets_df['sentiment'] = model.predict(X_new)\n",
        "    return tweets_df\n",
        "\n",
        "classified_tweets = classify_tweets(tweets_df)\n",
        "print(classified_tweets[['text', 'sentiment']])\n"
      ],
      "metadata": {
        "colab": {
          "base_uri": "https://localhost:8080/"
        },
        "id": "vW4-X73JXOhR",
        "outputId": "3430c25a-be10-4aa6-e05a-e64f2a35b325"
      },
      "execution_count": 16,
      "outputs": [
        {
          "output_type": "stream",
          "name": "stdout",
          "text": [
            "                               text    sentiment\n",
            "0           This is a sample tweet.   Positive  \n",
            "1  Another tweet for preprocessing.   Positive  \n"
          ]
        }
      ]
    }
  ]
}